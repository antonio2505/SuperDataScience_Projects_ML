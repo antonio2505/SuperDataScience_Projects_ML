{
  "nbformat": 4,
  "nbformat_minor": 0,
  "metadata": {
    "colab": {
      "name": "Simple Linear Regression.ipynb",
      "provenance": [],
      "authorship_tag": "ABX9TyM8pELUq7SP/0k/3PbQuVgt",
      "include_colab_link": true
    },
    "kernelspec": {
      "name": "python3",
      "display_name": "Python 3"
    },
    "language_info": {
      "name": "python"
    }
  },
  "cells": [
    {
      "cell_type": "markdown",
      "metadata": {
        "id": "view-in-github",
        "colab_type": "text"
      },
      "source": [
        "<a href=\"https://colab.research.google.com/github/antonio2505/SuperDataScience_Projects_ML/blob/main/Simple_Linear_Regression.ipynb\" target=\"_parent\"><img src=\"https://colab.research.google.com/assets/colab-badge.svg\" alt=\"Open In Colab\"/></a>"
      ]
    },
    {
      "cell_type": "markdown",
      "metadata": {
        "id": "XMpOQGidyPHl"
      },
      "source": [
        "# Simple Linear Regession "
      ]
    },
    {
      "cell_type": "markdown",
      "metadata": {
        "id": "o_HDsVMcy0tT"
      },
      "source": [
        "importing the libraries"
      ]
    },
    {
      "cell_type": "code",
      "metadata": {
        "id": "VEqzacruz0Y6"
      },
      "source": [
        "import numpy as np \n",
        "import matplotlib.pyplot as plt\n",
        "import pandas as pd\n"
      ],
      "execution_count": 2,
      "outputs": []
    },
    {
      "cell_type": "markdown",
      "metadata": {
        "id": "o9RNNLgfy01_"
      },
      "source": [
        "Importing the dataset"
      ]
    },
    {
      "cell_type": "code",
      "metadata": {
        "id": "fGZ2xhu10GbO"
      },
      "source": [
        "dataset = pd.read_csv('Salary_Data.csv')\n",
        "\n",
        "x = dataset.iloc[ : , : -1].values\n",
        "y = dataset.iloc[ : , -1].values"
      ],
      "execution_count": 6,
      "outputs": []
    },
    {
      "cell_type": "code",
      "metadata": {
        "colab": {
          "base_uri": "https://localhost:8080/"
        },
        "id": "ZeXCEqP_0l2V",
        "outputId": "0d22a340-7b6c-494d-9c54-a25b78638cc0"
      },
      "source": [
        "print(y)"
      ],
      "execution_count": 9,
      "outputs": [
        {
          "output_type": "stream",
          "text": [
            "[ 39343.  46205.  37731.  43525.  39891.  56642.  60150.  54445.  64445.\n",
            "  57189.  63218.  55794.  56957.  57081.  61111.  67938.  66029.  83088.\n",
            "  81363.  93940.  91738.  98273. 101302. 113812. 109431. 105582. 116969.\n",
            " 112635. 122391. 121872.]\n"
          ],
          "name": "stdout"
        }
      ]
    },
    {
      "cell_type": "markdown",
      "metadata": {
        "id": "k5sOYyScy0_K"
      },
      "source": [
        "Splitint the dataset into the training set and the test set"
      ]
    },
    {
      "cell_type": "code",
      "metadata": {
        "id": "TpJivNP106hS"
      },
      "source": [
        "from sklearn.model_selection import train_test_split\n",
        "\n",
        "x_train, x_test, y_train, y_test = train_test_split(x,y, test_size = 0.2, random_state = 0)"
      ],
      "execution_count": 16,
      "outputs": []
    },
    {
      "cell_type": "markdown",
      "metadata": {
        "id": "NRQn_pz0y1Jn"
      },
      "source": [
        "Training the simple Linear Regression Model in the training set"
      ]
    },
    {
      "cell_type": "code",
      "metadata": {
        "colab": {
          "base_uri": "https://localhost:8080/"
        },
        "id": "BfyW2TtP3VLW",
        "outputId": "73d153d5-8e49-47bc-ded8-9f50acac448a"
      },
      "source": [
        "from sklearn.linear_model import LinearRegression\n",
        "\n",
        "regressor = LinearRegression()\n",
        "\n",
        "regressor.fit(x_train, y_train)"
      ],
      "execution_count": 18,
      "outputs": [
        {
          "output_type": "execute_result",
          "data": {
            "text/plain": [
              "LinearRegression(copy_X=True, fit_intercept=True, n_jobs=None, normalize=False)"
            ]
          },
          "metadata": {
            "tags": []
          },
          "execution_count": 18
        }
      ]
    },
    {
      "cell_type": "markdown",
      "metadata": {
        "id": "1FveoC1Ay1Tj"
      },
      "source": [
        "Predicting the test set Results"
      ]
    },
    {
      "cell_type": "code",
      "metadata": {
        "id": "g8s6fci45qGb"
      },
      "source": [
        "y_pred = regressor.predict(x_test)"
      ],
      "execution_count": 19,
      "outputs": []
    },
    {
      "cell_type": "markdown",
      "metadata": {
        "id": "h_i0VzAky1cu"
      },
      "source": [
        "visualizing the training set result"
      ]
    },
    {
      "cell_type": "code",
      "metadata": {
        "colab": {
          "base_uri": "https://localhost:8080/",
          "height": 295
        },
        "id": "7VCS_d3D6QHy",
        "outputId": "a3b3c87a-09c7-4bc7-e0a2-316482ed83cd"
      },
      "source": [
        "plt.scatter(x_train, y_train, color='red')\n",
        "plt.plot(x_train, regressor.predict(x_train), color= 'blue')\n",
        "plt.title('Salary vs Experiences')\n",
        "plt.xlabel('Years of Experience')\n",
        "plt.ylabel('Salary')\n",
        "plt.show()"
      ],
      "execution_count": 20,
      "outputs": [
        {
          "output_type": "display_data",
          "data": {
            "image/png": "[encoded data removed]",
            "text/plain": [
              "<Figure size 432x288 with 1 Axes>"
            ]
          },
          "metadata": {
            "tags": [],
            "needs_background": "light"
          }
        }
      ]
    },
    {
      "cell_type": "markdown",
      "metadata": {
        "id": "HyoBWBZ1y1lH"
      },
      "source": [
        "visualizing the test set result"
      ]
    },
    {
      "cell_type": "code",
      "metadata": {
        "colab": {
          "base_uri": "https://localhost:8080/",
          "height": 295
        },
        "id": "s-8JiaPbzyQa",
        "outputId": "0b9db9ea-ec25-484c-ecbf-0ff5c7ab82e3"
      },
      "source": [
        "plt.scatter(x_test, y_test, color='red')\n",
        "plt.plot(x_train, regressor.predict(x_train), color= 'blue')\n",
        "plt.title('Salary vs Experiences')\n",
        "plt.xlabel('Years of Experience')\n",
        "plt.ylabel('Salary')\n",
        "plt.show()"
      ],
      "execution_count": 21,
      "outputs": [
        {
          "output_type": "display_data",
          "data": {
            "image/png": "[encoded data removed]",
            "text/plain": [
              "<Figure size 432x288 with 1 Axes>"
            ]
          },
          "metadata": {
            "tags": [],
            "needs_background": "light"
          }
        }
      ]
    },
    {
      "cell_type": "markdown",
      "metadata": {
        "id": "JEjiLMi5AEcS"
      },
      "source": [
        "**Making a single prediction (for example the salary of an employee with 12 years of experience)**"
      ]
    },
    {
      "cell_type": "code",
      "metadata": {
        "colab": {
          "base_uri": "https://localhost:8080/"
        },
        "id": "xhniRREZ-qH3",
        "outputId": "fc504c1c-97af-4eea-b0ba-a1ce3e1620b3"
      },
      "source": [
        "print(regressor.predict([[12]]))"
      ],
      "execution_count": 22,
      "outputs": [
        {
          "output_type": "stream",
          "text": [
            "[138531.00067138]\n"
          ],
          "name": "stdout"
        }
      ]
    },
    {
      "cell_type": "markdown",
      "metadata": {
        "id": "ScWQt1ghAZP0"
      },
      "source": [
        "Therefore, our model predicts that the salary of an employee with 12 years of experience is $ 138967,5."
      ]
    },
    {
      "cell_type": "markdown",
      "metadata": {
        "id": "G78scvQVAduV"
      },
      "source": [
        "**Getting the final linear regression equation with the values of the coefficients**"
      ]
    },
    {
      "cell_type": "code",
      "metadata": {
        "colab": {
          "base_uri": "https://localhost:8080/"
        },
        "id": "8LOOqSlZAVGS",
        "outputId": "cff3bcb7-efd2-4e25-80c1-77726595fd73"
      },
      "source": [
        "print(regressor.coef_)\n",
        "print(regressor.intercept_)"
      ],
      "execution_count": 23,
      "outputs": [
        {
          "output_type": "stream",
          "text": [
            "[9312.57512673]\n",
            "26780.09915062818\n"
          ],
          "name": "stdout"
        }
      ]
    },
    {
      "cell_type": "markdown",
      "metadata": {
        "id": "A5Qwg6HjArbT"
      },
      "source": [
        "Therefore, the equation of our simple linear regression model is:\n",
        "\n",
        "**Salary=9345.94×YearsExperience+26816.19**"
      ]
    }
  ]
}